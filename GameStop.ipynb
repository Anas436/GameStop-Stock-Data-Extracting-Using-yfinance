{
 "cells": [
  {
   "cell_type": "code",
   "execution_count": 1,
   "id": "2dd4f712-c234-4dfc-a691-310a589753f8",
   "metadata": {},
   "outputs": [
    {
     "name": "stdout",
     "output_type": "stream",
     "text": [
      "Requirement already satisfied: yfinance==0.1.67 in /home/jupyterlab/conda/envs/python/lib/python3.7/site-packages (0.1.67)\n",
      "Requirement already satisfied: pandas>=0.24 in /home/jupyterlab/conda/envs/python/lib/python3.7/site-packages (from yfinance==0.1.67) (1.3.3)\n",
      "Requirement already satisfied: requests>=2.20 in /home/jupyterlab/conda/envs/python/lib/python3.7/site-packages (from yfinance==0.1.67) (2.27.1)\n",
      "Requirement already satisfied: lxml>=4.5.1 in /home/jupyterlab/conda/envs/python/lib/python3.7/site-packages (from yfinance==0.1.67) (4.8.0)\n",
      "Requirement already satisfied: multitasking>=0.0.7 in /home/jupyterlab/conda/envs/python/lib/python3.7/site-packages (from yfinance==0.1.67) (0.0.10)\n",
      "Requirement already satisfied: numpy>=1.15 in /home/jupyterlab/conda/envs/python/lib/python3.7/site-packages (from yfinance==0.1.67) (1.21.6)\n",
      "Requirement already satisfied: python-dateutil>=2.7.3 in /home/jupyterlab/conda/envs/python/lib/python3.7/site-packages (from pandas>=0.24->yfinance==0.1.67) (2.8.2)\n",
      "Requirement already satisfied: pytz>=2017.3 in /home/jupyterlab/conda/envs/python/lib/python3.7/site-packages (from pandas>=0.24->yfinance==0.1.67) (2022.1)\n",
      "Requirement already satisfied: certifi>=2017.4.17 in /home/jupyterlab/conda/envs/python/lib/python3.7/site-packages (from requests>=2.20->yfinance==0.1.67) (2021.10.8)\n",
      "Requirement already satisfied: urllib3<1.27,>=1.21.1 in /home/jupyterlab/conda/envs/python/lib/python3.7/site-packages (from requests>=2.20->yfinance==0.1.67) (1.26.9)\n",
      "Requirement already satisfied: idna<4,>=2.5 in /home/jupyterlab/conda/envs/python/lib/python3.7/site-packages (from requests>=2.20->yfinance==0.1.67) (3.3)\n",
      "Requirement already satisfied: charset-normalizer~=2.0.0 in /home/jupyterlab/conda/envs/python/lib/python3.7/site-packages (from requests>=2.20->yfinance==0.1.67) (2.0.12)\n",
      "Requirement already satisfied: six>=1.5 in /home/jupyterlab/conda/envs/python/lib/python3.7/site-packages (from python-dateutil>=2.7.3->pandas>=0.24->yfinance==0.1.67) (1.16.0)\n",
      "Requirement already satisfied: pandas==1.3.3 in /home/jupyterlab/conda/envs/python/lib/python3.7/site-packages (1.3.3)\n",
      "Requirement already satisfied: python-dateutil>=2.7.3 in /home/jupyterlab/conda/envs/python/lib/python3.7/site-packages (from pandas==1.3.3) (2.8.2)\n",
      "Requirement already satisfied: pytz>=2017.3 in /home/jupyterlab/conda/envs/python/lib/python3.7/site-packages (from pandas==1.3.3) (2022.1)\n",
      "Requirement already satisfied: numpy>=1.17.3 in /home/jupyterlab/conda/envs/python/lib/python3.7/site-packages (from pandas==1.3.3) (1.21.6)\n",
      "Requirement already satisfied: six>=1.5 in /home/jupyterlab/conda/envs/python/lib/python3.7/site-packages (from python-dateutil>=2.7.3->pandas==1.3.3) (1.16.0)\n"
     ]
    }
   ],
   "source": [
    "!pip install yfinance==0.1.67\n",
    "!pip install pandas==1.3.3"
   ]
  },
  {
   "cell_type": "code",
   "execution_count": 2,
   "id": "61a30d3a-0c3e-4b03-82e7-d49d778e455a",
   "metadata": {},
   "outputs": [],
   "source": [
    "import yfinance as yf\n",
    "import pandas as pd"
   ]
  },
  {
   "cell_type": "code",
   "execution_count": 3,
   "id": "f95a8879-638b-43c2-878d-e41c53502a48",
   "metadata": {},
   "outputs": [],
   "source": [
    "gamestop=yf.Ticker(\"GME\")"
   ]
  },
  {
   "cell_type": "code",
   "execution_count": 4,
   "id": "48fcaa10-ea7c-4f72-8358-e3a5756b91c5",
   "metadata": {},
   "outputs": [
    {
     "data": {
      "text/plain": [
       "{'zip': '76051',\n",
       " 'sector': 'Consumer Cyclical',\n",
       " 'fullTimeEmployees': 12000,\n",
       " 'longBusinessSummary': 'GameStop Corp., a specialty retailer, provides games and entertainment products through its e-commerce properties and various stores in the United States, Canada, Australia, and Europe. The company sells new and pre-owned gaming platforms; accessories, such as controllers, gaming headsets, virtual reality products, and memory cards; new and pre-owned gaming software; and in-game digital currency, digital downloadable content, and full-game downloads. It also sells collectibles comprising licensed merchandise primarily related to the gaming, television, and movie industries, as well as pop culture themes. As of January 29, 2022, the company operated 4,573 stores and ecommerce sites under the GameStop, EB Games, and Micromania brands; and 50 pop culture themed stores that sell collectibles, apparel, gadgets, electronics, toys, and other retail products under the Zing Pop Culture brand, as well as offers Game Informer, a print and digital video game publication featuring reviews of new releases, previews of the big titles on the horizon, and coverage of the latest developments in the gaming industry. The company was formerly known as GSC Holdings Corp. GameStop Corp. was founded in 1996 and is headquartered in Grapevine, Texas.',\n",
       " 'city': 'Grapevine',\n",
       " 'phone': '817 424 2000',\n",
       " 'state': 'TX',\n",
       " 'country': 'United States',\n",
       " 'companyOfficers': [],\n",
       " 'website': 'https://www.gamestop.com',\n",
       " 'maxAge': 1,\n",
       " 'address1': '625 Westport Parkway',\n",
       " 'industry': 'Specialty Retail',\n",
       " 'ebitdaMargins': -0.04359,\n",
       " 'profitMargins': -0.063439995,\n",
       " 'grossMargins': 0.22423,\n",
       " 'operatingCashflow': -434300000,\n",
       " 'revenueGrowth': 0.062,\n",
       " 'operatingMargins': -0.05643,\n",
       " 'ebitda': -262000000,\n",
       " 'targetLowPrice': 23,\n",
       " 'recommendationKey': 'underperform',\n",
       " 'grossProfits': 1347800000,\n",
       " 'freeCashflow': -296512512,\n",
       " 'targetMedianPrice': 30,\n",
       " 'currentPrice': 90.67,\n",
       " 'earningsGrowth': None,\n",
       " 'currentRatio': 1.918,\n",
       " 'returnOnAssets': -0.071,\n",
       " 'numberOfAnalystOpinions': 3,\n",
       " 'targetMeanPrice': 47.67,\n",
       " 'debtToEquity': 40.499,\n",
       " 'returnOnEquity': -0.37397,\n",
       " 'targetHighPrice': 90,\n",
       " 'totalCash': 1271399936,\n",
       " 'totalDebt': 649000000,\n",
       " 'totalRevenue': 6010699776,\n",
       " 'totalCashPerShare': 16.74,\n",
       " 'financialCurrency': 'USD',\n",
       " 'revenuePerShare': 82.792,\n",
       " 'quickRatio': 1.167,\n",
       " 'recommendationMean': 4,\n",
       " 'exchange': 'NYQ',\n",
       " 'shortName': 'GameStop Corporation',\n",
       " 'longName': 'GameStop Corp.',\n",
       " 'exchangeTimezoneName': 'America/New_York',\n",
       " 'exchangeTimezoneShortName': 'EDT',\n",
       " 'isEsgPopulated': False,\n",
       " 'gmtOffSetMilliseconds': '-14400000',\n",
       " 'quoteType': 'EQUITY',\n",
       " 'symbol': 'GME',\n",
       " 'messageBoardId': 'finmb_1342560',\n",
       " 'market': 'us_market',\n",
       " 'annualHoldingsTurnover': None,\n",
       " 'enterpriseToRevenue': 1.477,\n",
       " 'beta3Year': None,\n",
       " 'enterpriseToEbitda': -33.881,\n",
       " '52WeekChange': -0.4634289,\n",
       " 'morningStarRiskRating': None,\n",
       " 'forwardEps': -3,\n",
       " 'revenueQuarterlyGrowth': None,\n",
       " 'sharesOutstanding': 76339000,\n",
       " 'fundInceptionDate': None,\n",
       " 'annualReportExpenseRatio': None,\n",
       " 'totalAssets': None,\n",
       " 'bookValue': 21.222,\n",
       " 'sharesShort': 13540994,\n",
       " 'sharesPercentSharesOut': 0.1774,\n",
       " 'fundFamily': None,\n",
       " 'lastFiscalYearEnd': 1643414400,\n",
       " 'heldPercentInstitutions': 0.27901,\n",
       " 'netIncomeToCommon': -381300000,\n",
       " 'trailingEps': -5.252,\n",
       " 'lastDividendValue': 0.38,\n",
       " 'SandP52WeekChange': -0.05660814,\n",
       " 'priceToBook': 4.272453,\n",
       " 'heldPercentInsiders': 0.15913999,\n",
       " 'nextFiscalYearEnd': 1706486400,\n",
       " 'yield': None,\n",
       " 'mostRecentQuarter': 1643414400,\n",
       " 'shortRatio': 3.23,\n",
       " 'sharesShortPreviousMonthDate': 1648684800,\n",
       " 'floatShares': 63014612,\n",
       " 'beta': -1.521568,\n",
       " 'enterpriseValue': 8876729344,\n",
       " 'priceHint': 2,\n",
       " 'threeYearAverageReturn': None,\n",
       " 'lastSplitDate': 1174262400,\n",
       " 'lastSplitFactor': '2:1',\n",
       " 'legalType': None,\n",
       " 'lastDividendDate': 1552521600,\n",
       " 'morningStarOverallRating': None,\n",
       " 'earningsQuarterlyGrowth': None,\n",
       " 'priceToSalesTrailing12Months': 1.1515559,\n",
       " 'dateShortInterest': 1651190400,\n",
       " 'pegRatio': 0.35,\n",
       " 'ytdReturn': None,\n",
       " 'forwardPE': -30.223333,\n",
       " 'lastCapGain': None,\n",
       " 'shortPercentOfFloat': 0.2018,\n",
       " 'sharesShortPriorMonth': 12249471,\n",
       " 'impliedSharesOutstanding': 0,\n",
       " 'category': None,\n",
       " 'fiveYearAverageReturn': None,\n",
       " 'previousClose': 91.48,\n",
       " 'regularMarketOpen': 96.38,\n",
       " 'twoHundredDayAverage': 153.96205,\n",
       " 'trailingAnnualDividendYield': 0,\n",
       " 'payoutRatio': 0,\n",
       " 'volume24Hr': None,\n",
       " 'regularMarketDayHigh': 93.9488,\n",
       " 'navPrice': None,\n",
       " 'averageDailyVolume10Day': 3957750,\n",
       " 'regularMarketPreviousClose': 91.48,\n",
       " 'fiftyDayAverage': 126.6412,\n",
       " 'trailingAnnualDividendRate': 0,\n",
       " 'open': 96.38,\n",
       " 'toCurrency': None,\n",
       " 'averageVolume10days': 3957750,\n",
       " 'expireDate': None,\n",
       " 'algorithm': None,\n",
       " 'dividendRate': None,\n",
       " 'exDividendDate': 1552521600,\n",
       " 'circulatingSupply': None,\n",
       " 'startDate': None,\n",
       " 'regularMarketDayLow': 90.5,\n",
       " 'currency': 'USD',\n",
       " 'regularMarketVolume': 299785,\n",
       " 'lastMarket': None,\n",
       " 'maxSupply': None,\n",
       " 'openInterest': None,\n",
       " 'marketCap': 6921656832,\n",
       " 'volumeAllCurrencies': None,\n",
       " 'strikePrice': None,\n",
       " 'averageVolume': 4444655,\n",
       " 'dayLow': 90.5,\n",
       " 'ask': 93.8,\n",
       " 'askSize': 1200,\n",
       " 'volume': 299785,\n",
       " 'fiftyTwoWeekHigh': 344.66,\n",
       " 'fromCurrency': None,\n",
       " 'fiveYearAvgDividendYield': None,\n",
       " 'fiftyTwoWeekLow': 77.58,\n",
       " 'bid': 93.38,\n",
       " 'tradeable': False,\n",
       " 'dividendYield': None,\n",
       " 'bidSize': 1200,\n",
       " 'dayHigh': 93.9488,\n",
       " 'regularMarketPrice': 90.67,\n",
       " 'preMarketPrice': 91.51,\n",
       " 'logo_url': 'https://logo.clearbit.com/gamestop.com'}"
      ]
     },
     "execution_count": 4,
     "metadata": {},
     "output_type": "execute_result"
    }
   ],
   "source": [
    "gamestop_info=gamestop.info\n",
    "gamestop_info"
   ]
  },
  {
   "cell_type": "code",
   "execution_count": 5,
   "id": "864ef171-a97e-472d-9be0-7acb79fea2e8",
   "metadata": {},
   "outputs": [
    {
     "data": {
      "text/plain": [
       "'United States'"
      ]
     },
     "execution_count": 5,
     "metadata": {},
     "output_type": "execute_result"
    }
   ],
   "source": [
    "gamestop_info[\"country\"]"
   ]
  },
  {
   "cell_type": "code",
   "execution_count": 6,
   "id": "c40e9851-8e39-4185-9220-42fbd57656f7",
   "metadata": {},
   "outputs": [
    {
     "data": {
      "text/plain": [
       "'Grapevine'"
      ]
     },
     "execution_count": 6,
     "metadata": {},
     "output_type": "execute_result"
    }
   ],
   "source": [
    "gamestop_info[\"city\"]"
   ]
  },
  {
   "cell_type": "code",
   "execution_count": 7,
   "id": "31ef74ca-7303-47bd-8511-19e86dec4374",
   "metadata": {},
   "outputs": [
    {
     "data": {
      "text/plain": [
       "'Specialty Retail'"
      ]
     },
     "execution_count": 7,
     "metadata": {},
     "output_type": "execute_result"
    }
   ],
   "source": [
    "gamestop_info[\"industry\"]"
   ]
  },
  {
   "cell_type": "code",
   "execution_count": 8,
   "id": "4d4dc73a-4eb9-4e3c-b1e8-dc8e10303ff6",
   "metadata": {},
   "outputs": [
    {
     "data": {
      "text/plain": [
       "299785"
      ]
     },
     "execution_count": 8,
     "metadata": {},
     "output_type": "execute_result"
    }
   ],
   "source": [
    "gamestop_info[\"volume\"]"
   ]
  },
  {
   "cell_type": "code",
   "execution_count": 9,
   "id": "bad26e36-a950-476f-8fbf-c504b2db48b2",
   "metadata": {},
   "outputs": [],
   "source": [
    "gamestop_share_price_data=gamestop.history(period=\"max\")"
   ]
  },
  {
   "cell_type": "code",
   "execution_count": 10,
   "id": "2027fbd7-94ba-4ce1-89ff-035f29440916",
   "metadata": {},
   "outputs": [],
   "source": [
    "gamestop_share_price_data.reset_index(inplace=True)"
   ]
  },
  {
   "cell_type": "code",
   "execution_count": 11,
   "id": "e320efdc-4ed6-4479-a1c2-addd57065a8c",
   "metadata": {},
   "outputs": [
    {
     "data": {
      "text/html": [
       "<div>\n",
       "<style scoped>\n",
       "    .dataframe tbody tr th:only-of-type {\n",
       "        vertical-align: middle;\n",
       "    }\n",
       "\n",
       "    .dataframe tbody tr th {\n",
       "        vertical-align: top;\n",
       "    }\n",
       "\n",
       "    .dataframe thead th {\n",
       "        text-align: right;\n",
       "    }\n",
       "</style>\n",
       "<table border=\"1\" class=\"dataframe\">\n",
       "  <thead>\n",
       "    <tr style=\"text-align: right;\">\n",
       "      <th></th>\n",
       "      <th>Date</th>\n",
       "      <th>Open</th>\n",
       "      <th>High</th>\n",
       "      <th>Low</th>\n",
       "      <th>Close</th>\n",
       "      <th>Volume</th>\n",
       "      <th>Dividends</th>\n",
       "      <th>Stock Splits</th>\n",
       "    </tr>\n",
       "  </thead>\n",
       "  <tbody>\n",
       "    <tr>\n",
       "      <th>0</th>\n",
       "      <td>2002-02-13</td>\n",
       "      <td>6.480515</td>\n",
       "      <td>6.773401</td>\n",
       "      <td>6.413184</td>\n",
       "      <td>6.766667</td>\n",
       "      <td>19054000</td>\n",
       "      <td>0.0</td>\n",
       "      <td>0.0</td>\n",
       "    </tr>\n",
       "    <tr>\n",
       "      <th>1</th>\n",
       "      <td>2002-02-14</td>\n",
       "      <td>6.850828</td>\n",
       "      <td>6.864294</td>\n",
       "      <td>6.682503</td>\n",
       "      <td>6.733000</td>\n",
       "      <td>2755400</td>\n",
       "      <td>0.0</td>\n",
       "      <td>0.0</td>\n",
       "    </tr>\n",
       "    <tr>\n",
       "      <th>2</th>\n",
       "      <td>2002-02-15</td>\n",
       "      <td>6.733001</td>\n",
       "      <td>6.749833</td>\n",
       "      <td>6.632006</td>\n",
       "      <td>6.699336</td>\n",
       "      <td>2097400</td>\n",
       "      <td>0.0</td>\n",
       "      <td>0.0</td>\n",
       "    </tr>\n",
       "    <tr>\n",
       "      <th>3</th>\n",
       "      <td>2002-02-19</td>\n",
       "      <td>6.665672</td>\n",
       "      <td>6.665672</td>\n",
       "      <td>6.312189</td>\n",
       "      <td>6.430017</td>\n",
       "      <td>1852600</td>\n",
       "      <td>0.0</td>\n",
       "      <td>0.0</td>\n",
       "    </tr>\n",
       "    <tr>\n",
       "      <th>4</th>\n",
       "      <td>2002-02-20</td>\n",
       "      <td>6.463682</td>\n",
       "      <td>6.648839</td>\n",
       "      <td>6.413184</td>\n",
       "      <td>6.648839</td>\n",
       "      <td>1723200</td>\n",
       "      <td>0.0</td>\n",
       "      <td>0.0</td>\n",
       "    </tr>\n",
       "  </tbody>\n",
       "</table>\n",
       "</div>"
      ],
      "text/plain": [
       "        Date      Open      High       Low     Close    Volume  Dividends  \\\n",
       "0 2002-02-13  6.480515  6.773401  6.413184  6.766667  19054000        0.0   \n",
       "1 2002-02-14  6.850828  6.864294  6.682503  6.733000   2755400        0.0   \n",
       "2 2002-02-15  6.733001  6.749833  6.632006  6.699336   2097400        0.0   \n",
       "3 2002-02-19  6.665672  6.665672  6.312189  6.430017   1852600        0.0   \n",
       "4 2002-02-20  6.463682  6.648839  6.413184  6.648839   1723200        0.0   \n",
       "\n",
       "   Stock Splits  \n",
       "0           0.0  \n",
       "1           0.0  \n",
       "2           0.0  \n",
       "3           0.0  \n",
       "4           0.0  "
      ]
     },
     "execution_count": 11,
     "metadata": {},
     "output_type": "execute_result"
    }
   ],
   "source": [
    "gamestop_share_price_data.head()"
   ]
  },
  {
   "cell_type": "code",
   "execution_count": 12,
   "id": "7ea2cdb5-9977-4b2b-8d3b-468c60071fce",
   "metadata": {},
   "outputs": [
    {
     "data": {
      "text/html": [
       "<div>\n",
       "<style scoped>\n",
       "    .dataframe tbody tr th:only-of-type {\n",
       "        vertical-align: middle;\n",
       "    }\n",
       "\n",
       "    .dataframe tbody tr th {\n",
       "        vertical-align: top;\n",
       "    }\n",
       "\n",
       "    .dataframe thead th {\n",
       "        text-align: right;\n",
       "    }\n",
       "</style>\n",
       "<table border=\"1\" class=\"dataframe\">\n",
       "  <thead>\n",
       "    <tr style=\"text-align: right;\">\n",
       "      <th></th>\n",
       "      <th>Date</th>\n",
       "      <th>Open</th>\n",
       "      <th>High</th>\n",
       "      <th>Low</th>\n",
       "      <th>Close</th>\n",
       "      <th>Volume</th>\n",
       "      <th>Dividends</th>\n",
       "      <th>Stock Splits</th>\n",
       "    </tr>\n",
       "  </thead>\n",
       "  <tbody>\n",
       "    <tr>\n",
       "      <th>5098</th>\n",
       "      <td>2022-05-13</td>\n",
       "      <td>99.000000</td>\n",
       "      <td>106.779999</td>\n",
       "      <td>95.040001</td>\n",
       "      <td>98.389999</td>\n",
       "      <td>5974000</td>\n",
       "      <td>0.0</td>\n",
       "      <td>0.0</td>\n",
       "    </tr>\n",
       "    <tr>\n",
       "      <th>5099</th>\n",
       "      <td>2022-05-16</td>\n",
       "      <td>98.800003</td>\n",
       "      <td>99.180000</td>\n",
       "      <td>90.779999</td>\n",
       "      <td>91.800003</td>\n",
       "      <td>2895500</td>\n",
       "      <td>0.0</td>\n",
       "      <td>0.0</td>\n",
       "    </tr>\n",
       "    <tr>\n",
       "      <th>5100</th>\n",
       "      <td>2022-05-17</td>\n",
       "      <td>93.900002</td>\n",
       "      <td>100.379997</td>\n",
       "      <td>91.199997</td>\n",
       "      <td>100.379997</td>\n",
       "      <td>2611200</td>\n",
       "      <td>0.0</td>\n",
       "      <td>0.0</td>\n",
       "    </tr>\n",
       "    <tr>\n",
       "      <th>5101</th>\n",
       "      <td>2022-05-18</td>\n",
       "      <td>96.379997</td>\n",
       "      <td>99.839996</td>\n",
       "      <td>90.169998</td>\n",
       "      <td>91.480003</td>\n",
       "      <td>2883900</td>\n",
       "      <td>0.0</td>\n",
       "      <td>0.0</td>\n",
       "    </tr>\n",
       "    <tr>\n",
       "      <th>5102</th>\n",
       "      <td>2022-05-19</td>\n",
       "      <td>96.379997</td>\n",
       "      <td>93.948799</td>\n",
       "      <td>90.500000</td>\n",
       "      <td>90.669998</td>\n",
       "      <td>300715</td>\n",
       "      <td>0.0</td>\n",
       "      <td>0.0</td>\n",
       "    </tr>\n",
       "  </tbody>\n",
       "</table>\n",
       "</div>"
      ],
      "text/plain": [
       "           Date       Open        High        Low       Close   Volume  \\\n",
       "5098 2022-05-13  99.000000  106.779999  95.040001   98.389999  5974000   \n",
       "5099 2022-05-16  98.800003   99.180000  90.779999   91.800003  2895500   \n",
       "5100 2022-05-17  93.900002  100.379997  91.199997  100.379997  2611200   \n",
       "5101 2022-05-18  96.379997   99.839996  90.169998   91.480003  2883900   \n",
       "5102 2022-05-19  96.379997   93.948799  90.500000   90.669998   300715   \n",
       "\n",
       "      Dividends  Stock Splits  \n",
       "5098        0.0           0.0  \n",
       "5099        0.0           0.0  \n",
       "5100        0.0           0.0  \n",
       "5101        0.0           0.0  \n",
       "5102        0.0           0.0  "
      ]
     },
     "execution_count": 12,
     "metadata": {},
     "output_type": "execute_result"
    }
   ],
   "source": [
    "gamestop_share_price_data.tail()"
   ]
  },
  {
   "cell_type": "code",
   "execution_count": 13,
   "id": "8b67c2ff-c807-4c4a-9049-f3a332691ea2",
   "metadata": {},
   "outputs": [
    {
     "data": {
      "text/plain": [
       "<AxesSubplot:xlabel='Date'>"
      ]
     },
     "execution_count": 13,
     "metadata": {},
     "output_type": "execute_result"
    },
    {
     "data": {
      "image/png": "[encoded data removed]",
      "text/plain": [
       "<Figure size 432x288 with 1 Axes>"
      ]
     },
     "metadata": {
      "needs_background": "light"
     },
     "output_type": "display_data"
    }
   ],
   "source": [
    "gamestop_share_price_data.plot(x=\"Date\", y=\"Open\")"
   ]
  },
  {
   "cell_type": "code",
   "execution_count": 14,
   "id": "0a61eee9-126a-4d3d-91c0-36edd5986e60",
   "metadata": {},
   "outputs": [
    {
     "data": {
      "text/plain": [
       "Date\n",
       "2012-02-16    0.150\n",
       "2012-05-24    0.150\n",
       "2012-08-24    0.250\n",
       "2012-11-26    0.250\n",
       "2013-03-01    0.275\n",
       "2013-05-31    0.275\n",
       "2013-08-29    0.275\n",
       "2013-12-02    0.275\n",
       "2014-03-13    0.330\n",
       "2014-06-02    0.330\n",
       "2014-08-29    0.330\n",
       "2014-11-21    0.330\n",
       "2015-03-13    0.360\n",
       "2015-06-08    0.360\n",
       "2015-09-04    0.360\n",
       "2015-12-01    0.360\n",
       "2016-03-04    0.370\n",
       "2016-06-06    0.370\n",
       "2016-09-07    0.370\n",
       "2016-11-29    0.370\n",
       "2017-03-10    0.380\n",
       "2017-06-05    0.380\n",
       "2017-09-07    0.380\n",
       "2017-11-30    0.380\n",
       "2018-03-02    0.380\n",
       "2018-06-11    0.380\n",
       "2018-09-17    0.380\n",
       "2018-12-10    0.380\n",
       "2019-03-14    0.380\n",
       "Name: Dividends, dtype: float64"
      ]
     },
     "execution_count": 14,
     "metadata": {},
     "output_type": "execute_result"
    }
   ],
   "source": [
    "gamestop.dividends"
   ]
  },
  {
   "cell_type": "code",
   "execution_count": 15,
   "id": "4ad22c16-2af2-4fdc-a7a1-25ae8b635917",
   "metadata": {},
   "outputs": [
    {
     "data": {
      "text/plain": [
       "<AxesSubplot:xlabel='Date'>"
      ]
     },
     "execution_count": 15,
     "metadata": {},
     "output_type": "execute_result"
    },
    {
     "data": {
      "image/png": "[encoded data removed]",
      "text/plain": [
       "<Figure size 432x288 with 1 Axes>"
      ]
     },
     "metadata": {
      "needs_background": "light"
     },
     "output_type": "display_data"
    }
   ],
   "source": [
    "gamestop.dividends.plot()"
   ]
  },
  {
   "cell_type": "code",
   "execution_count": null,
   "id": "7759a9c3-f199-4eac-a7e0-63964420a97f",
   "metadata": {},
   "outputs": [],
   "source": []
  }
 ],
 "metadata": {
  "kernelspec": {
   "display_name": "Python",
   "language": "python",
   "name": "conda-env-python-py"
  },
  "language_info": {
   "codemirror_mode": {
    "name": "ipython",
    "version": 3
   },
   "file_extension": ".py",
   "mimetype": "text/x-python",
   "name": "python",
   "nbconvert_exporter": "python",
   "pygments_lexer": "ipython3",
   "version": "3.7.12"
  }
 },
 "nbformat": 4,
 "nbformat_minor": 5
}
